{
 "cells": [
  {
   "cell_type": "code",
   "execution_count": 1,
   "id": "1e29d196",
   "metadata": {},
   "outputs": [
    {
     "name": "stdout",
     "output_type": "stream",
     "text": [
      "lib imported succesfully\n"
     ]
    },
    {
     "name": "stderr",
     "output_type": "stream",
     "text": [
      "c:\\Users\\stend\\Documents\\python_projects\\varizellazoster - Copy\\src\\lib\\dataprocessing\\dataprocessor.py:490: FutureWarning: Downcasting behavior in `replace` is deprecated and will be removed in a future version. To retain the old behavior, explicitly call `result.infer_objects(copy=False)`. To opt-in to the future behavior, set `pd.set_option('future.no_silent_downcasting', True)`\n",
      "  self.df[colname] = self.df[colname].replace(mapping_dict)\n"
     ]
    }
   ],
   "source": [
    "from utils import *\n",
    "from datasets import *\n",
    "from datadealing import *\n",
    "from models import *"
   ]
  },
  {
   "cell_type": "code",
   "execution_count": null,
   "id": "b430dca7",
   "metadata": {},
   "outputs": [],
   "source": [
    "vacmap = (DataProcessingOrchestrator()\n",
    "          .import_data(filename = 'KVIS_Impfquoten_Kinder.tsv',directory = os.path.join(dir_data, 'vaxdata'), separator='\\t')\n",
    "          .filter([('Impfung', 'Varizellen','==')])\n",
    "          \n",
    ")\n"
   ]
  },
  {
   "cell_type": "code",
   "execution_count": 12,
   "id": "7b7416e2",
   "metadata": {},
   "outputs": [
    {
     "data": {
      "text/plain": [
       "DataFrame: unnamed\n",
       "Shape: (57886, 13)\n",
       "Preview\n",
       "   Geburtsjahr     Impfung STIKO_Empfehlung Impfstatus Altersgruppe  \\\n",
       "0         2008  Varizellen         Standard   1. Dosis    15 Monate   \n",
       "1         2008  Varizellen         Standard   1. Dosis    15 Monate   \n",
       "2         2008  Varizellen         Standard   1. Dosis    15 Monate   \n",
       "3         2008  Varizellen         Standard   1. Dosis    15 Monate   \n",
       "4         2008  Varizellen         Standard   1. Dosis    15 Monate   \n",
       "\n",
       "     Bundesland_Name Bundesland_short     KV_Region_Name KV_Region_short  \\\n",
       "0  Baden-Württemberg               BW  Baden-Württemberg              BW   \n",
       "1  Baden-Württemberg               BW  Baden-Württemberg              BW   \n",
       "2  Baden-Württemberg               BW  Baden-Württemberg              BW   \n",
       "3  Baden-Württemberg               BW  Baden-Württemberg              BW   \n",
       "4  Baden-Württemberg               BW  Baden-Württemberg              BW   \n",
       "\n",
       "   Landkreis_Name  Regionalschluessel_Kreis  Bevoelkerung_Gewicht  Impfquote  \n",
       "0    SK Stuttgart                      8111                  5387   70.35288  \n",
       "1    LK Böblingen                      8115                  3460   76.27060  \n",
       "2    LK Esslingen                      8116                  4629   70.79585  \n",
       "3    LK Göppingen                      8117                  2098   64.56974  \n",
       "4  LK Ludwigsburg                      8118                  4799   75.38032  "
      ]
     },
     "execution_count": 12,
     "metadata": {},
     "output_type": "execute_result"
    }
   ],
   "source": [
    "vacmap"
   ]
  }
 ],
 "metadata": {
  "kernelspec": {
   "display_name": "torchscatterenv",
   "language": "python",
   "name": "python3"
  },
  "language_info": {
   "codemirror_mode": {
    "name": "ipython",
    "version": 3
   },
   "file_extension": ".py",
   "mimetype": "text/x-python",
   "name": "python",
   "nbconvert_exporter": "python",
   "pygments_lexer": "ipython3",
   "version": "3.10.16"
  }
 },
 "nbformat": 4,
 "nbformat_minor": 5
}
